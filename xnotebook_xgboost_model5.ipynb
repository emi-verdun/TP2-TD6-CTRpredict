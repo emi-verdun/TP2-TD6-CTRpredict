{
 "cells": [
  {
   "cell_type": "code",
   "execution_count": 6,
   "metadata": {},
   "outputs": [],
   "source": [
    "import pandas as pd\n",
    "import numpy as np\n",
    "import gc\n",
    "import matplotlib.pyplot as plt\n",
    "import xgboost as xgb\n",
    "import time\n",
    "from sklearn.impute import SimpleImputer\n",
    "from sklearn.pipeline import Pipeline\n",
    "from sklearn.model_selection import train_test_split, ParameterSampler\n",
    "from sklearn.metrics import roc_auc_score\n",
    "from sklearn.preprocessing import StandardScaler\n",
    "from sklearn.decomposition import PCA\n",
    "\n",
    "\n",
    "random_state = 42\n",
    "np.random.seed(random_state)\n",
    "\n"
   ]
  },
  {
   "cell_type": "code",
   "execution_count": 19,
   "metadata": {},
   "outputs": [],
   "source": [
    "# Print all columns and rows\n",
    "pd.set_option('display.max_columns', None)\n",
    "pd.set_option('display.max_rows', None)\n",
    "pd.set_option('display.width', None)\n",
    "\n",
    "# Load part of the train data\n",
    "ctr15 = pd.read_csv(\"ctr_15.csv\")\n",
    "ctr16 = pd.read_csv(\"ctr_16.csv\")\n",
    "ctr17 = pd.read_csv(\"ctr_17.csv\")\n",
    "ctr18 = pd.read_csv(\"ctr_18.csv\")\n",
    "ctr19 = pd.read_csv(\"ctr_19.csv\")\n",
    "ctr20 = pd.read_csv(\"ctr_20.csv\")\n",
    "ctr21 = pd.read_csv(\"ctr_21.csv\")\n",
    "train_data = pd.concat([ctr15,ctr16,ctr17,ctr18,ctr19,ctr20,ctr21], ignore_index=True)\n",
    "\n",
    "# Load the test data\n",
    "test_data = pd.read_csv(\"ctr_test.csv\")\n"
   ]
  },
  {
   "cell_type": "code",
   "execution_count": 20,
   "metadata": {},
   "outputs": [
    {
     "data": {
      "text/plain": [
       "1074"
      ]
     },
     "execution_count": 20,
     "metadata": {},
     "output_type": "execute_result"
    }
   ],
   "source": [
    "# Train a tree on the train data\n",
    "train_data = train_data.sample(frac=1/7, random_state=1234)\n",
    "y = train_data[\"Label\"]\n",
    "x = train_data.drop(columns=[\"Label\"])\n",
    "x = x.select_dtypes(include='number')\n",
    "X_train, X_val, y_train, y_val = train_test_split(x, y, test_size=0.3, random_state=3456)\n",
    "del train_data\n",
    "gc.collect()"
   ]
  },
  {
   "cell_type": "code",
   "execution_count": 12,
   "metadata": {},
   "outputs": [
    {
     "data": {
      "text/html": [
       "<div>\n",
       "<style scoped>\n",
       "    .dataframe tbody tr th:only-of-type {\n",
       "        vertical-align: middle;\n",
       "    }\n",
       "\n",
       "    .dataframe tbody tr th {\n",
       "        vertical-align: top;\n",
       "    }\n",
       "\n",
       "    .dataframe thead th {\n",
       "        text-align: right;\n",
       "    }\n",
       "</style>\n",
       "<table border=\"1\" class=\"dataframe\">\n",
       "  <thead>\n",
       "    <tr style=\"text-align: right;\">\n",
       "      <th></th>\n",
       "      <th>auction_age</th>\n",
       "      <th>auction_bidfloor</th>\n",
       "      <th>auction_time</th>\n",
       "      <th>creative_height</th>\n",
       "      <th>creative_width</th>\n",
       "      <th>timezone_offset</th>\n",
       "    </tr>\n",
       "  </thead>\n",
       "  <tbody>\n",
       "    <tr>\n",
       "      <th>7831962</th>\n",
       "      <td>NaN</td>\n",
       "      <td>0.400000</td>\n",
       "      <td>1.516537e+09</td>\n",
       "      <td>NaN</td>\n",
       "      <td>NaN</td>\n",
       "      <td>1.0</td>\n",
       "    </tr>\n",
       "    <tr>\n",
       "      <th>4501541</th>\n",
       "      <td>38.0</td>\n",
       "      <td>0.070000</td>\n",
       "      <td>1.516405e+09</td>\n",
       "      <td>50.0</td>\n",
       "      <td>320.0</td>\n",
       "      <td>1.0</td>\n",
       "    </tr>\n",
       "    <tr>\n",
       "      <th>6902121</th>\n",
       "      <td>NaN</td>\n",
       "      <td>0.020000</td>\n",
       "      <td>1.516452e+09</td>\n",
       "      <td>50.0</td>\n",
       "      <td>320.0</td>\n",
       "      <td>1.0</td>\n",
       "    </tr>\n",
       "    <tr>\n",
       "      <th>4996404</th>\n",
       "      <td>NaN</td>\n",
       "      <td>0.061728</td>\n",
       "      <td>1.516364e+09</td>\n",
       "      <td>50.0</td>\n",
       "      <td>320.0</td>\n",
       "      <td>1.0</td>\n",
       "    </tr>\n",
       "    <tr>\n",
       "      <th>2475161</th>\n",
       "      <td>NaN</td>\n",
       "      <td>0.090000</td>\n",
       "      <td>1.516190e+09</td>\n",
       "      <td>250.0</td>\n",
       "      <td>300.0</td>\n",
       "      <td>1.0</td>\n",
       "    </tr>\n",
       "  </tbody>\n",
       "</table>\n",
       "</div>"
      ],
      "text/plain": [
       "         auction_age  auction_bidfloor  auction_time  creative_height  \\\n",
       "7831962          NaN          0.400000  1.516537e+09              NaN   \n",
       "4501541         38.0          0.070000  1.516405e+09             50.0   \n",
       "6902121          NaN          0.020000  1.516452e+09             50.0   \n",
       "4996404          NaN          0.061728  1.516364e+09             50.0   \n",
       "2475161          NaN          0.090000  1.516190e+09            250.0   \n",
       "\n",
       "         creative_width  timezone_offset  \n",
       "7831962             NaN              1.0  \n",
       "4501541           320.0              1.0  \n",
       "6902121           320.0              1.0  \n",
       "4996404           320.0              1.0  \n",
       "2475161           300.0              1.0  "
      ]
     },
     "execution_count": 12,
     "metadata": {},
     "output_type": "execute_result"
    }
   ],
   "source": [
    "X_train.head()"
   ]
  },
  {
   "cell_type": "code",
   "execution_count": 21,
   "metadata": {},
   "outputs": [
    {
     "name": "stdout",
     "output_type": "stream",
     "text": [
      "864459\n",
      "370483\n"
     ]
    }
   ],
   "source": [
    "print(len(X_train))\n",
    "print(len(X_val))"
   ]
  },
  {
   "cell_type": "code",
   "execution_count": 8,
   "metadata": {},
   "outputs": [],
   "source": [
    "# X_train = pd.get_dummies(X_train,\n",
    "#                         columns = ['action_categorical_0', 'action_categorical_1', 'action_categorical_2', 'action_categorical_3', 'action_categorical_4', 'action_categorical_5', 'action_categorical_6', 'action_categorical_7'],\n",
    "#                         sparse = True,    # Devolver una matriz rala.\n",
    "#                         dummy_na = False, # No agregar columna para NaNs.\n",
    "#                         dtype = int       # XGBoost no trabaja con 'object'; necesitamos que sean numéricos.\n",
    "#                        )\n",
    "# X_train"
   ]
  },
  {
   "cell_type": "code",
   "execution_count": 22,
   "metadata": {},
   "outputs": [],
   "source": [
    "clf_xgb = xgb.XGBClassifier(objective = 'binary:logistic',\n",
    "                            seed = random_state,\n",
    "                            eval_metric = 'auc')\n"
   ]
  },
  {
   "cell_type": "code",
   "execution_count": 23,
   "metadata": {},
   "outputs": [],
   "source": [
    "from scipy.stats import uniform\n",
    "params = {'max_depth': list(range(1, 20)),\n",
    "          'learning_rate': uniform(scale = 0.2),\n",
    "          'gamma': uniform(scale = 2),\n",
    "          'reg_lambda': uniform(scale = 5),        # Parámetro de regularización.\n",
    "          'subsample': uniform(0.5, 0.5),          # Entre 0.5 y 1.\n",
    "          'min_child_weight': uniform(scale = 5),\n",
    "          'colsample_bytree': uniform(0.75, 0.25), # Entre 0.75 y 1.\n",
    "          'n_estimators': list(range(1, 1000))\n",
    "         }"
   ]
  },
  {
   "cell_type": "code",
   "execution_count": 25,
   "metadata": {},
   "outputs": [
    {
     "name": "stdout",
     "output_type": "stream",
     "text": [
      "Mejor valor de ROC-AUC encontrado: 0.8360580707050204\n",
      "Mejor valor de ROC-AUC encontrado: 0.8374420533897584\n",
      "ROC-AUC: 0.83744\n",
      "Grilla: {'colsample_bytree': 0.880208565006456, 'gamma': 1.9223440486986982, 'learning_rate': 0.1689067697356303, 'max_depth': 13, 'min_child_weight': 1.3567451588694794, 'n_estimators': 53, 'reg_lambda': 2.9337558283192413, 'subsample': 0.982627653632069}\n",
      "Tiempo transcurrido: 4116.627385854721 segundos\n",
      "Tiempo de entrenamiento por iteración: 82.33 segundos\n"
     ]
    }
   ],
   "source": [
    "start = time.time()\n",
    "best_score = 0\n",
    "best_estimator = None\n",
    "iterations = 50\n",
    "for g in ParameterSampler(params, n_iter = iterations, random_state = random_state):\n",
    "    clf_xgb = xgb.XGBClassifier(objective = 'binary:logistic', seed = random_state, eval_metric = 'auc', **g)\n",
    "    clf_xgb.fit(X_train, y_train, eval_set = [(X_val, y_val)], verbose = False)\n",
    "\n",
    "    y_pred = clf_xgb.predict_proba(X_val)[:, 1] # Obtenemos la probabilidad de una de las clases (cualquiera).\n",
    "    auc_roc = roc_auc_score(y_val, y_pred)\n",
    "    # Guardamos si es mejor.\n",
    "    if auc_roc > best_score:\n",
    "        print(f'Mejor valor de ROC-AUC encontrado: {auc_roc}')\n",
    "        best_score = auc_roc\n",
    "        best_grid = g\n",
    "        best_estimator = clf_xgb\n",
    "\n",
    "end = time.time()\n",
    "print('ROC-AUC: %0.5f' % best_score)\n",
    "print('Grilla:', best_grid)\n",
    "print(f'Tiempo transcurrido: {str(end - start)} segundos')\n",
    "print(f'Tiempo de entrenamiento por iteración: {str(round((end - start) / iterations, 2))} segundos')"
   ]
  },
  {
   "cell_type": "code",
   "execution_count": 26,
   "metadata": {},
   "outputs": [
    {
     "name": "stdout",
     "output_type": "stream",
     "text": [
      "[0]\tvalidation_0-auc:0.81044\n",
      "[1]\tvalidation_0-auc:0.81201\n",
      "[2]\tvalidation_0-auc:0.81314\n",
      "[3]\tvalidation_0-auc:0.82466\n",
      "[4]\tvalidation_0-auc:0.82751\n",
      "[5]\tvalidation_0-auc:0.82785\n",
      "[6]\tvalidation_0-auc:0.82533\n",
      "[7]\tvalidation_0-auc:0.82627\n",
      "[8]\tvalidation_0-auc:0.82480\n",
      "[9]\tvalidation_0-auc:0.82777\n",
      "[10]\tvalidation_0-auc:0.82836\n",
      "[11]\tvalidation_0-auc:0.83021\n",
      "[12]\tvalidation_0-auc:0.83165\n",
      "[13]\tvalidation_0-auc:0.83270\n",
      "[14]\tvalidation_0-auc:0.83170\n",
      "[15]\tvalidation_0-auc:0.83020\n",
      "[16]\tvalidation_0-auc:0.82950\n",
      "[17]\tvalidation_0-auc:0.83141\n",
      "[18]\tvalidation_0-auc:0.83318\n",
      "[19]\tvalidation_0-auc:0.83224\n",
      "[20]\tvalidation_0-auc:0.83388\n",
      "[21]\tvalidation_0-auc:0.83324\n",
      "[22]\tvalidation_0-auc:0.83422\n",
      "[23]\tvalidation_0-auc:0.83382\n",
      "[24]\tvalidation_0-auc:0.83485\n",
      "[25]\tvalidation_0-auc:0.83534\n",
      "[26]\tvalidation_0-auc:0.83503\n",
      "[27]\tvalidation_0-auc:0.83556\n",
      "[28]\tvalidation_0-auc:0.83595\n",
      "[29]\tvalidation_0-auc:0.83653\n",
      "[30]\tvalidation_0-auc:0.83692\n",
      "[31]\tvalidation_0-auc:0.83700\n",
      "[32]\tvalidation_0-auc:0.83715\n",
      "[33]\tvalidation_0-auc:0.83719\n",
      "[34]\tvalidation_0-auc:0.83711\n",
      "[35]\tvalidation_0-auc:0.83730\n",
      "[36]\tvalidation_0-auc:0.83723\n",
      "[37]\tvalidation_0-auc:0.83722\n",
      "[38]\tvalidation_0-auc:0.83718\n",
      "[39]\tvalidation_0-auc:0.83720\n",
      "[40]\tvalidation_0-auc:0.83744\n",
      "[41]\tvalidation_0-auc:0.83748\n",
      "[42]\tvalidation_0-auc:0.83748\n",
      "[43]\tvalidation_0-auc:0.83748\n",
      "[44]\tvalidation_0-auc:0.83745\n",
      "[45]\tvalidation_0-auc:0.83747\n",
      "[46]\tvalidation_0-auc:0.83747\n",
      "[47]\tvalidation_0-auc:0.83744\n",
      "[48]\tvalidation_0-auc:0.83743\n",
      "[49]\tvalidation_0-auc:0.83744\n",
      "[50]\tvalidation_0-auc:0.83744\n",
      "[51]\tvalidation_0-auc:0.83744\n",
      "[52]\tvalidation_0-auc:0.83744\n",
      "AUC-ROC validación: 0.83744\n"
     ]
    }
   ],
   "source": [
    "best_estimator = xgb.XGBClassifier(objective = 'binary:logistic',\n",
    "                                   seed = random_state,\n",
    "                                   eval_metric = 'auc',\n",
    "                                   **best_grid)\n",
    "\n",
    "best_estimator.fit(X_train, y_train, verbose = True,  eval_set = [(X_val, y_val)])\n",
    "\n",
    "# roc_auc_score requiere un array 1D; da lo mismo qué dimensión le pasemos: 90 o 1.\n",
    "y_pred = best_estimator.predict_proba(X_val)[:, 1]\n",
    "auc_roc = roc_auc_score(y_val, y_pred)\n",
    "print('AUC-ROC validación: %0.5f' % auc_roc)"
   ]
  },
  {
   "cell_type": "code",
   "execution_count": 34,
   "metadata": {},
   "outputs": [
    {
     "name": "stdout",
     "output_type": "stream",
     "text": [
      "AUC-ROC test: 0.82668\n"
     ]
    }
   ],
   "source": [
    "x_test=ctr20.drop(columns=[\"Label\"])\n",
    "y_test = ctr20[\"Label\"]\n",
    "x_test = x_test.select_dtypes(include='number')\n",
    "y_pred = best_estimator.predict_proba(x_test)[:, 1]\n",
    "auc_roc = roc_auc_score(y_test, y_pred)\n",
    "print('AUC-ROC test: %0.5f' % auc_roc)"
   ]
  },
  {
   "cell_type": "code",
   "execution_count": 27,
   "metadata": {},
   "outputs": [],
   "source": [
    "# Predict on the evaluation set\n",
    "eval_data = test_data.select_dtypes(include='number')\n",
    "y_preds = best_estimator.predict_proba(eval_data.drop(columns=[\"id\"]))[:, best_estimator.classes_ == 1].squeeze()\n"
   ]
  },
  {
   "cell_type": "code",
   "execution_count": 11,
   "metadata": {},
   "outputs": [
    {
     "name": "stdout",
     "output_type": "stream",
     "text": [
      "creative_height     0.107970\n",
      "auction_bidfloor    0.087762\n",
      "creative_width      0.057441\n",
      "timezone_offset     0.024481\n",
      "auction_time        0.019863\n",
      "auction_age         0.005981\n",
      "Name: Label, dtype: float64\n"
     ]
    },
    {
     "data": {
      "image/png": "[encoded data removed]",
      "text/plain": [
       "<Figure size 1000x800 with 1 Axes>"
      ]
     },
     "metadata": {},
     "output_type": "display_data"
    }
   ],
   "source": [
    "data_with_labels = pd.concat([X_train, y_train], axis=1)\n",
    "\n",
    "# Calcular la correlación de Pearson entre las características y y_train\n",
    "correlations = data_with_labels.corr()['Label'].drop('Label')  # Excluir la autocorrelación de 'Label'\n",
    "\n",
    "# Ordenar las correlaciones de mayor a menor\n",
    "correlations_sorted = correlations.abs().sort_values(ascending=False)\n",
    "\n",
    "# Imprimir las correlaciones\n",
    "print(correlations_sorted)\n",
    "\n",
    "# Graficar las correlaciones\n",
    "plt.figure(figsize=(10, 8))\n",
    "correlations_sorted.plot(kind='bar')\n",
    "plt.title('Correlación de Variables con y_train')\n",
    "plt.xlabel('Variables')\n",
    "plt.ylabel('Coeficiente de Correlación de Pearson')\n",
    "plt.show()"
   ]
  },
  {
   "cell_type": "code",
   "execution_count": 28,
   "metadata": {},
   "outputs": [],
   "source": [
    "# Make the submission file\n",
    "submission_df = pd.DataFrame({\"id\": eval_data[\"id\"], \"Label\": y_preds})\n",
    "submission_df[\"id\"] = submission_df[\"id\"].astype(int)\n",
    "submission_df.to_csv(\"xgboost_model5.csv\", sep=\",\", index=False)"
   ]
  }
 ],
 "metadata": {
  "kernelspec": {
   "display_name": "TD6",
   "language": "python",
   "name": "python3"
  },
  "language_info": {
   "codemirror_mode": {
    "name": "ipython",
    "version": 3
   },
   "file_extension": ".py",
   "mimetype": "text/x-python",
   "name": "python",
   "nbconvert_exporter": "python",
   "pygments_lexer": "ipython3",
   "version": "3.12.4"
  }
 },
 "nbformat": 4,
 "nbformat_minor": 2
}
